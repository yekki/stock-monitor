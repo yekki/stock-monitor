{
 "cells": [
  {
   "cell_type": "code",
   "execution_count": 96,
   "metadata": {},
   "outputs": [],
   "source": [
    "import pandas as pd\n",
    "import time\n",
    "from termcolor import bcolors\n",
    "import urllib\n",
    "import requests"
   ]
  },
  {
   "cell_type": "code",
   "execution_count": 97,
   "metadata": {},
   "outputs": [],
   "source": [
    "def get_now():\n",
    "    return time.strftime('%Y-%m-%d %A %p %X', time.localtime(time.time()))\n",
    "\n",
    "def high_or_low(a,b):\n",
    "    return bcolors.RED if a >= b else bcolors.GREEN  \n"
   ]
  },
  {
   "cell_type": "code",
   "execution_count": 98,
   "metadata": {},
   "outputs": [],
   "source": [
    "df = pd.read_csv('stocks.csv', delimiter=\",\")"
   ]
  },
  {
   "cell_type": "code",
   "execution_count": 99,
   "metadata": {},
   "outputs": [],
   "source": [
    "URL = \"http://hq.sinajs.cn/list=\" + ','.join([ c for c in df['股票代码']])"
   ]
  },
  {
   "cell_type": "code",
   "execution_count": 123,
   "metadata": {},
   "outputs": [],
   "source": [
    "def print_stock(url):\n",
    "    data = requests.get(url)\n",
    "    lines = data.text.split('\\n')\n",
    "    for line in lines:\n",
    "        stock_info = line.split(',')\n",
    "        if stock_info[0]:\n",
    "            temp  = stock_info[0].split('_')[2].replace('\"','').split('=')\n",
    "            code = temp[0]\n",
    "            name = temp[1]\n",
    "        \n",
    "            todayBeginPrice   = float(stock_info[1])\n",
    "            yersterdayEndPrice  = float(stock_info[2])\n",
    "            currentPrice   = float(stock_info[3])\n",
    "            todayMaxPrice = float(stock_info[4])\n",
    "            todayMinPrice = float(stock_info[5])\n",
    "            per = '停牌  ' if '%.2f' % todayBeginPrice == '0.00' else  ('%+.2f' % ( ( currentPrice / yersterdayEndPrice - 1 ) * 100 ) )+ '%'\n",
    "            #红涨绿跌\n",
    "            todayBeginPriceColor = high_or_low(todayBeginPrice, yersterdayEndPrice)\n",
    "            currentPriceColor = high_or_low(currentPrice, yersterdayEndPrice)\n",
    "            todayMaxPriceColor = high_or_low(todayMaxPrice, yersterdayEndPrice)\n",
    "            todayMinPriceColor = high_or_low(todayMinPrice, yersterdayEndPrice)\n",
    "            \n",
    "            stockCost = 0\n",
    "            stockQuantity = 0\n",
    "            floatMoney = 0\n",
    "            stockRatio = 0\n",
    "            floatMoneyColor = bcolors.WHITE\n",
    "            stockQuantity = int(df[df.股票代码==code].values[0][1])\n",
    "            stockCost = float(df[df.股票代码==code].values[0][2])\n",
    "            \n",
    "            if '%.2f' % todayBeginPrice != '0.00':\n",
    "                floatMoney = ( currentPrice - stockCost ) * stockQuantity\n",
    "                stockRatio = 0 if stockCost == 0 else ( '%+.2f' % ( (currentPrice / stockCost - 1) * 100 ) ) + '%'\n",
    "                floatMoneyColor = high_or_low(currentPrice, stockCost)\n",
    "            else:\n",
    "                floatMoney = ( yersterdayEndPrice - stockCost ) * stockQuantity\n",
    "                stockRatio = 0 if stockCost == 0 else ( '%+.2f' % ( (yersterdayEndPrice / stockCost - 1) * 100 ) ) + '%'\n",
    "                floatMoneyColor = high_or_low(yersterdayEndPrice, stockCost)\n",
    "            \n",
    "            print('%s%s%s %s%4s%s %s%10.2f%s %s%10.2f%s %s%10.2f%s %s%10.2f%s %s%10.2f   %s%s    %s%10.2f     %10s%s   %s%10.2f%s' % \\\n",
    "                    (bcolors.WHITE, code, bcolors.ENDC,  \n",
    "                     bcolors.WHITE, name, bcolors.ENDC,  \n",
    "                     bcolors.WHITE, yersterdayEndPrice, bcolors.ENDC,  \n",
    "                     todayBeginPriceColor, todayBeginPrice, bcolors.ENDC, \n",
    "                     todayMaxPriceColor, todayMaxPrice, bcolors.ENDC, \n",
    "                     todayBeginPriceColor, todayMinPrice, bcolors.ENDC, \n",
    "                     currentPriceColor, currentPrice, per, bcolors.ENDC,\n",
    "                     floatMoneyColor, floatMoney, stockRatio, bcolors.ENDC,\n",
    "                     bcolors.WHITE, stockCost * stockQuantity, bcolors.ENDC))"
   ]
  },
  {
   "cell_type": "code",
   "execution_count": 124,
   "metadata": {},
   "outputs": [
    {
     "name": "stdout",
     "output_type": "stream",
     "text": [
      "\u001b[97m 代码      名称         昨收        今开     最高        最低       现价     涨幅      浮动数额       盈亏比例     成本金额 \u001b[0m\n"
     ]
    }
   ],
   "source": [
    "print(bcolors.WHITE, \"代码      名称         昨收        今开     最高        最低       现价     涨幅      浮动数额       盈亏比例     成本金额\", bcolors.ENDC)\n"
   ]
  },
  {
   "cell_type": "code",
   "execution_count": 125,
   "metadata": {},
   "outputs": [
    {
     "name": "stdout",
     "output_type": "stream",
     "text": [
      "\u001b[97msh000001\u001b[0m \u001b[97m上证指数\u001b[0m \u001b[97m   3320.13\u001b[0m \u001b[91m   3326.46\u001b[0m \u001b[91m   3326.46\u001b[0m \u001b[91m   3292.15\u001b[0m \u001b[92m   3312.16   -0.24%\u001b[0m    \u001b[91m      0.00              0\u001b[0m   \u001b[97m      0.00\u001b[0m\n",
      "\u001b[97msz300369\u001b[0m \u001b[97m绿盟科技\u001b[0m \u001b[97m     17.89\u001b[0m \u001b[92m     17.83\u001b[0m \u001b[91m     18.15\u001b[0m \u001b[92m     17.68\u001b[0m \u001b[92m     17.87   -0.11%\u001b[0m    \u001b[91m      0.00              0\u001b[0m   \u001b[97m      0.00\u001b[0m\n",
      "\u001b[97msz399006\u001b[0m \u001b[97m创业板指\u001b[0m \u001b[97m   2787.88\u001b[0m \u001b[91m   2798.55\u001b[0m \u001b[91m   2798.55\u001b[0m \u001b[91m   2708.08\u001b[0m \u001b[92m   2733.07   -1.97%\u001b[0m    \u001b[91m      0.00              0\u001b[0m   \u001b[97m      0.00\u001b[0m\n",
      "\u001b[97msz150019\u001b[0m \u001b[97m银华锐进\u001b[0m \u001b[97m      1.83\u001b[0m \u001b[91m      1.84\u001b[0m \u001b[91m      1.84\u001b[0m \u001b[91m      1.80\u001b[0m \u001b[92m      1.83   -0.27%\u001b[0m    \u001b[91m    908.60        +82.60%\u001b[0m   \u001b[97m   1100.00\u001b[0m\n",
      "\u001b[97msh601318\u001b[0m \u001b[97m中国平安\u001b[0m \u001b[97m     80.94\u001b[0m \u001b[91m     81.10\u001b[0m \u001b[91m     81.75\u001b[0m \u001b[91m     80.52\u001b[0m \u001b[91m     81.30   +0.44%\u001b[0m    \u001b[91m   6065.00       +293.70%\u001b[0m   \u001b[97m   2065.00\u001b[0m\n",
      "\u001b[97msz399001\u001b[0m \u001b[97m深证成指\u001b[0m \u001b[97m  13894.26\u001b[0m \u001b[91m  13932.41\u001b[0m \u001b[91m  13932.41\u001b[0m \u001b[91m  13708.75\u001b[0m \u001b[92m  13838.42   -0.40%\u001b[0m    \u001b[91m      0.00              0\u001b[0m   \u001b[97m      0.00\u001b[0m\n",
      "\u001b[97msz000877\u001b[0m \u001b[97m天山股份\u001b[0m \u001b[97m     15.54\u001b[0m \u001b[91m     15.55\u001b[0m \u001b[91m     15.55\u001b[0m \u001b[91m     15.05\u001b[0m \u001b[92m     15.27   -1.74%\u001b[0m    \u001b[91m    537.00        +54.24%\u001b[0m   \u001b[97m    990.00\u001b[0m\n",
      "\u001b[97msz000818\u001b[0m \u001b[97m航锦科技\u001b[0m \u001b[97m     19.55\u001b[0m \u001b[91m     19.95\u001b[0m \u001b[91m     20.44\u001b[0m \u001b[91m     19.48\u001b[0m \u001b[91m     19.63   +0.41%\u001b[0m    \u001b[91m   1281.00       +187.83%\u001b[0m   \u001b[97m    682.00\u001b[0m\n",
      "\u001b[97msh600830\u001b[0m \u001b[97m香溢融通\u001b[0m \u001b[97m      5.53\u001b[0m \u001b[91m      5.58\u001b[0m \u001b[91m      5.59\u001b[0m \u001b[91m      5.49\u001b[0m \u001b[91m      5.54   +0.18%\u001b[0m    \u001b[91m    442.00       +394.64%\u001b[0m   \u001b[97m    112.00\u001b[0m\n",
      "\u001b[97msh600619\u001b[0m \u001b[97m海立股份\u001b[0m \u001b[97m      7.34\u001b[0m \u001b[91m      7.36\u001b[0m \u001b[91m      7.38\u001b[0m \u001b[91m      7.28\u001b[0m \u001b[91m      7.34   +0.00%\u001b[0m    \u001b[92m   -298.00        -28.88%\u001b[0m   \u001b[97m   1032.00\u001b[0m\n",
      "\u001b[97msz002200\u001b[0m \u001b[97mST云投\u001b[0m \u001b[97m      5.28\u001b[0m \u001b[91m      5.28\u001b[0m \u001b[91m      5.30\u001b[0m \u001b[91m      5.23\u001b[0m \u001b[92m      5.26   -0.38%\u001b[0m    \u001b[92m   -563.00        -51.70%\u001b[0m   \u001b[97m   1089.00\u001b[0m\n",
      "\u001b[97msz000949\u001b[0m \u001b[97m新乡化纤\u001b[0m \u001b[97m      3.17\u001b[0m \u001b[91m      3.17\u001b[0m \u001b[91m      3.17\u001b[0m \u001b[91m      3.12\u001b[0m \u001b[92m      3.14   -0.95%\u001b[0m    \u001b[92m   -210.00        -40.08%\u001b[0m   \u001b[97m    524.00\u001b[0m\n"
     ]
    }
   ],
   "source": [
    "print_stock(URL)"
   ]
  },
  {
   "cell_type": "code",
   "execution_count": null,
   "metadata": {},
   "outputs": [],
   "source": []
  }
 ],
 "metadata": {
  "kernelspec": {
   "display_name": "Python 3",
   "language": "python",
   "name": "python3"
  },
  "language_info": {
   "codemirror_mode": {
    "name": "ipython",
    "version": 3
   },
   "file_extension": ".py",
   "mimetype": "text/x-python",
   "name": "python",
   "nbconvert_exporter": "python",
   "pygments_lexer": "ipython3",
   "version": "3.8.3"
  }
 },
 "nbformat": 4,
 "nbformat_minor": 4
}
